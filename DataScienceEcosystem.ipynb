{
 "cells": [
  {
   "cell_type": "markdown",
   "id": "26f09561-38cc-4060-a408-3f83c37553ba",
   "metadata": {},
   "source": [
    "# Data Science Tools and Ecosystems"
   ]
  },
  {
   "cell_type": "markdown",
   "id": "de9f73cb-4533-4937-9fda-af6c4b4853da",
   "metadata": {},
   "source": [
    "In this notebook, Data Science Tools and Ecosystem are summarized. "
   ]
  },
  {
   "cell_type": "markdown",
   "id": "a473ad3d-ee8d-43a4-b381-a6b05d9cc7da",
   "metadata": {},
   "source": [
    "|__Objectives__|\n",
    "|--------|\n",
    "|List popular languages for Data|\n",
    "|List libraries for Data|\n",
    "|List Data Science Tools|"
   ]
  },
  {
   "cell_type": "markdown",
   "id": "a13e9afa-5ab3-4a68-bf1b-2dd1b8c9e4ae",
   "metadata": {},
   "source": [
    "Some of the popular languages that Data Scientists use are: \n",
    "    1. Python\n",
    "    2. R\n",
    "    3. SQL"
   ]
  },
  {
   "cell_type": "markdown",
   "id": "e94e584e-434f-4448-b17d-7c27d81c3b32",
   "metadata": {},
   "source": [
    "Some of the commonly used libraries used by Data Scientists included: \n",
    "    1. Pands\n",
    "    2. Numpy\n",
    "    3. Scipy"
   ]
  },
  {
   "cell_type": "markdown",
   "id": "ad1b9a64-302b-47d8-9f76-af7a6d16b742",
   "metadata": {},
   "source": [
    "| Data Science Tools|\n",
    "|-------------------|\n",
    "|VS Code|\n",
    "|Gitlab|\n",
    "|Budibase|"
   ]
  },
  {
   "cell_type": "markdown",
   "id": "56557d62-3cd4-421e-b0d8-3edffc9ad1c9",
   "metadata": {},
   "source": [
    "### Below are few examples of evaluating arithmetic expression in Python "
   ]
  },
  {
   "cell_type": "code",
   "execution_count": 3,
   "id": "b0ae4fc4-f089-4b7b-8cd2-d67a5fef4326",
   "metadata": {
    "tags": []
   },
   "outputs": [
    {
     "data": {
      "text/plain": [
       "17"
      ]
     },
     "execution_count": 3,
     "metadata": {},
     "output_type": "execute_result"
    }
   ],
   "source": [
    "# This a simple arithmetic expression to multiply then add integers\n",
    "(3*4)+5"
   ]
  },
  {
   "cell_type": "code",
   "execution_count": 4,
   "id": "4caa6a56-976f-4693-b192-0ac698939cf4",
   "metadata": {
    "tags": []
   },
   "outputs": [
    {
     "data": {
      "text/plain": [
       "3.3333333333333335"
      ]
     },
     "execution_count": 4,
     "metadata": {},
     "output_type": "execute_result"
    }
   ],
   "source": [
    "# This will convert 200 minutes to hours by diving by 60 \n",
    "200/60"
   ]
  },
  {
   "cell_type": "markdown",
   "id": "8baa68a0-84ac-40cc-9bf8-7228fe31ca94",
   "metadata": {},
   "source": [
    "## Author"
   ]
  },
  {
   "cell_type": "markdown",
   "id": "110ef201-0a87-4706-b611-d1c37224eb75",
   "metadata": {},
   "source": [
    "Ramadani"
   ]
  },
  {
   "cell_type": "code",
   "execution_count": null,
   "id": "162d874d-fd18-46df-8f3c-9e243bc2cb37",
   "metadata": {},
   "outputs": [],
   "source": []
  }
 ],
 "metadata": {
  "kernelspec": {
   "display_name": "Python",
   "language": "python",
   "name": "conda-env-python-py"
  },
  "language_info": {
   "codemirror_mode": {
    "name": "ipython",
    "version": 3
   },
   "file_extension": ".py",
   "mimetype": "text/x-python",
   "name": "python",
   "nbconvert_exporter": "python",
   "pygments_lexer": "ipython3",
   "version": "3.7.12"
  }
 },
 "nbformat": 4,
 "nbformat_minor": 5
}
